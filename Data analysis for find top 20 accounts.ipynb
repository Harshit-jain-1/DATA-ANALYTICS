{
 "cells": [
  {
   "cell_type": "code",
   "execution_count": 1,
   "id": "f6c3c2ce-e741-4287-9b98-e3eb552a9346",
   "metadata": {},
   "outputs": [],
   "source": [
    "# import libraries\n",
    "import pandas as pd\n",
    "import numpy as np"
   ]
  },
  {
   "cell_type": "code",
   "execution_count": 2,
   "id": "81702a2d-2d39-4302-9af0-063ca716e52e",
   "metadata": {},
   "outputs": [],
   "source": [
    "# Load the dataset\n",
    "df = pd.read_csv('TRADES_CopyTr_90D_ROI.csv')"
   ]
  },
  {
   "cell_type": "code",
   "execution_count": 3,
   "id": "89300eba-5700-40c5-b7a9-e328c48a8c75",
   "metadata": {},
   "outputs": [
    {
     "data": {
      "text/html": [
       "<div>\n",
       "<style scoped>\n",
       "    .dataframe tbody tr th:only-of-type {\n",
       "        vertical-align: middle;\n",
       "    }\n",
       "\n",
       "    .dataframe tbody tr th {\n",
       "        vertical-align: top;\n",
       "    }\n",
       "\n",
       "    .dataframe thead th {\n",
       "        text-align: right;\n",
       "    }\n",
       "</style>\n",
       "<table border=\"1\" class=\"dataframe\">\n",
       "  <thead>\n",
       "    <tr style=\"text-align: right;\">\n",
       "      <th></th>\n",
       "      <th>Port_IDs</th>\n",
       "      <th>Trade_History</th>\n",
       "    </tr>\n",
       "  </thead>\n",
       "  <tbody>\n",
       "    <tr>\n",
       "      <th>0</th>\n",
       "      <td>3925368433214965504</td>\n",
       "      <td>[{'time': 1718899656000, 'symbol': 'SOLUSDT', ...</td>\n",
       "    </tr>\n",
       "    <tr>\n",
       "      <th>1</th>\n",
       "      <td>4002413037164645377</td>\n",
       "      <td>[{'time': 1718980078000, 'symbol': 'NEARUSDT',...</td>\n",
       "    </tr>\n",
       "    <tr>\n",
       "      <th>2</th>\n",
       "      <td>3923766029921022977</td>\n",
       "      <td>[{'time': 1718677164000, 'symbol': 'ETHUSDT', ...</td>\n",
       "    </tr>\n",
       "    <tr>\n",
       "      <th>3</th>\n",
       "      <td>3994879592543698688</td>\n",
       "      <td>[{'time': 1718678214000, 'symbol': 'ETHUSDT', ...</td>\n",
       "    </tr>\n",
       "    <tr>\n",
       "      <th>4</th>\n",
       "      <td>3926423286576838657</td>\n",
       "      <td>[{'time': 1718979615000, 'symbol': 'ETHUSDT', ...</td>\n",
       "    </tr>\n",
       "  </tbody>\n",
       "</table>\n",
       "</div>"
      ],
      "text/plain": [
       "              Port_IDs                                      Trade_History\n",
       "0  3925368433214965504  [{'time': 1718899656000, 'symbol': 'SOLUSDT', ...\n",
       "1  4002413037164645377  [{'time': 1718980078000, 'symbol': 'NEARUSDT',...\n",
       "2  3923766029921022977  [{'time': 1718677164000, 'symbol': 'ETHUSDT', ...\n",
       "3  3994879592543698688  [{'time': 1718678214000, 'symbol': 'ETHUSDT', ...\n",
       "4  3926423286576838657  [{'time': 1718979615000, 'symbol': 'ETHUSDT', ..."
      ]
     },
     "execution_count": 3,
     "metadata": {},
     "output_type": "execute_result"
    }
   ],
   "source": [
    "df.head()"
   ]
  },
  {
   "cell_type": "code",
   "execution_count": 4,
   "id": "32ebdad4-e739-4f32-aafc-c42f14fd6df2",
   "metadata": {},
   "outputs": [
    {
     "name": "stdout",
     "output_type": "stream",
     "text": [
      "<class 'pandas.core.frame.DataFrame'>\n",
      "RangeIndex: 150 entries, 0 to 149\n",
      "Data columns (total 2 columns):\n",
      " #   Column         Non-Null Count  Dtype \n",
      "---  ------         --------------  ----- \n",
      " 0   Port_IDs       150 non-null    int64 \n",
      " 1   Trade_History  149 non-null    object\n",
      "dtypes: int64(1), object(1)\n",
      "memory usage: 2.5+ KB\n"
     ]
    }
   ],
   "source": [
    "df.info()"
   ]
  },
  {
   "cell_type": "code",
   "execution_count": 5,
   "id": "07807d99-96b7-40b4-bc8e-183612504393",
   "metadata": {},
   "outputs": [
    {
     "data": {
      "text/html": [
       "<div>\n",
       "<style scoped>\n",
       "    .dataframe tbody tr th:only-of-type {\n",
       "        vertical-align: middle;\n",
       "    }\n",
       "\n",
       "    .dataframe tbody tr th {\n",
       "        vertical-align: top;\n",
       "    }\n",
       "\n",
       "    .dataframe thead th {\n",
       "        text-align: right;\n",
       "    }\n",
       "</style>\n",
       "<table border=\"1\" class=\"dataframe\">\n",
       "  <thead>\n",
       "    <tr style=\"text-align: right;\">\n",
       "      <th></th>\n",
       "      <th>Port_IDs</th>\n",
       "    </tr>\n",
       "  </thead>\n",
       "  <tbody>\n",
       "    <tr>\n",
       "      <th>count</th>\n",
       "      <td>1.500000e+02</td>\n",
       "    </tr>\n",
       "    <tr>\n",
       "      <th>mean</th>\n",
       "      <td>3.975655e+18</td>\n",
       "    </tr>\n",
       "    <tr>\n",
       "      <th>std</th>\n",
       "      <td>6.887470e+16</td>\n",
       "    </tr>\n",
       "    <tr>\n",
       "      <th>min</th>\n",
       "      <td>3.672755e+18</td>\n",
       "    </tr>\n",
       "    <tr>\n",
       "      <th>25%</th>\n",
       "      <td>3.943672e+18</td>\n",
       "    </tr>\n",
       "    <tr>\n",
       "      <th>50%</th>\n",
       "      <td>3.998616e+18</td>\n",
       "    </tr>\n",
       "    <tr>\n",
       "      <th>75%</th>\n",
       "      <td>4.029508e+18</td>\n",
       "    </tr>\n",
       "    <tr>\n",
       "      <th>max</th>\n",
       "      <td>4.041860e+18</td>\n",
       "    </tr>\n",
       "  </tbody>\n",
       "</table>\n",
       "</div>"
      ],
      "text/plain": [
       "           Port_IDs\n",
       "count  1.500000e+02\n",
       "mean   3.975655e+18\n",
       "std    6.887470e+16\n",
       "min    3.672755e+18\n",
       "25%    3.943672e+18\n",
       "50%    3.998616e+18\n",
       "75%    4.029508e+18\n",
       "max    4.041860e+18"
      ]
     },
     "execution_count": 5,
     "metadata": {},
     "output_type": "execute_result"
    }
   ],
   "source": [
    "df.describe()"
   ]
  },
  {
   "cell_type": "code",
   "execution_count": 6,
   "id": "82672671-8d75-4254-9373-7fb13253a9b5",
   "metadata": {},
   "outputs": [],
   "source": [
    "# Handle missing values\n",
    "df.isnull().sum()\n",
    "df.dropna(inplace=True)  # Drop rows with missing valuesdata.isnull().sum()"
   ]
  },
  {
   "cell_type": "code",
   "execution_count": 7,
   "id": "0d655a89-7307-4aad-befc-4b0065784bc4",
   "metadata": {},
   "outputs": [
    {
     "data": {
      "text/plain": [
       "Index(['Port_IDs', 'Trade_History'], dtype='object')"
      ]
     },
     "execution_count": 7,
     "metadata": {},
     "output_type": "execute_result"
    }
   ],
   "source": [
    "df.columns"
   ]
  },
  {
   "cell_type": "code",
   "execution_count": 9,
   "id": "875ed59b-6255-4efd-8333-584666ddb40b",
   "metadata": {},
   "outputs": [
    {
     "name": "stdout",
     "output_type": "stream",
     "text": [
      "                Port_IDs                                      Trade_History\n",
      "0    3925368433214965504  [{'time': 1718899656000, 'symbol': 'SOLUSDT', ...\n",
      "1    4002413037164645377  [{'time': 1718980078000, 'symbol': 'NEARUSDT',...\n",
      "2    3923766029921022977  [{'time': 1718677164000, 'symbol': 'ETHUSDT', ...\n",
      "3    3994879592543698688  [{'time': 1718678214000, 'symbol': 'ETHUSDT', ...\n",
      "4    3926423286576838657  [{'time': 1718979615000, 'symbol': 'ETHUSDT', ...\n",
      "..                   ...                                                ...\n",
      "145  4000222729738650369  [{'time': 1718982068000, 'symbol': 'ARKMUSDT',...\n",
      "146  3998659472131949824  [{'time': 1718979385000, 'symbol': 'BTCUSDT', ...\n",
      "147  4028701921959171840  [{'time': 1718984241000, 'symbol': 'BTCUSDT', ...\n",
      "148  4014818740371615232  [{'time': 1718983357000, 'symbol': 'SOLUSDT', ...\n",
      "149  3768170840939476993  [{'time': 1718977395000, 'symbol': 'BNBUSDT', ...\n",
      "\n",
      "[149 rows x 2 columns]\n"
     ]
    }
   ],
   "source": [
    "sub_columns = list['time','symbol','side','price','fee','feeAsset','quantity','quantityAsset','realizedProfit','realizedProfitAsset','baseAsset','qty','positionSide','activeBuy']\n",
    "# Select only the valid columns\n",
    "sub_df = df[sub_columns]\n",
    "print(sub_df)"
   ]
  },
  {
   "cell_type": "code",
   "execution_count": 11,
   "id": "c2a8aabd-b16e-4d5c-8355-21ee5a784ec1",
   "metadata": {},
   "outputs": [
    {
     "data": {
      "text/plain": [
       "Index(['Port_IDs', 'Trade_History'], dtype='object')"
      ]
     },
     "execution_count": 11,
     "metadata": {},
     "output_type": "execute_result"
    }
   ],
   "source": [
    "df.columns"
   ]
  },
  {
   "cell_type": "code",
   "execution_count": 17,
   "id": "d1a60bb9-f968-49f2-937a-b2a4aa12e841",
   "metadata": {},
   "outputs": [
    {
     "name": "stdout",
     "output_type": "stream",
     "text": [
      "                Port_IDs                time\n",
      "0    3925368433214965504 2024-06-20 16:07:36\n",
      "0    3925368433214965504 2024-06-20 16:06:58\n",
      "0    3925368433214965504 2024-06-20 16:06:58\n",
      "0    3925368433214965504 2024-06-20 16:06:56\n",
      "0    3925368433214965504 2024-06-20 16:06:56\n",
      "..                   ...                 ...\n",
      "149  3768170840939476993 2024-06-16 14:57:55\n",
      "149  3768170840939476993 2024-06-16 14:57:55\n",
      "149  3768170840939476993 2024-06-16 14:57:55\n",
      "149  3768170840939476993 2024-06-16 14:57:55\n",
      "149  3768170840939476993 2024-06-16 14:57:55\n",
      "\n",
      "[211277 rows x 2 columns]\n"
     ]
    }
   ],
   "source": [
    "import ast\n",
    "# Convert the Trade_History strings to actual lists of dictionaries\n",
    "df['Trade_History'] = df['Trade_History'].apply(ast.literal_eval)\n",
    "\n",
    "# Explode the Trade_History column to create a new DataFrame\n",
    "df_exploded = df.explode('Trade_History')\n",
    "\n",
    "# Extract the 'time' from the Trade_History\n",
    "df_exploded['time'] = df_exploded['Trade_History'].apply(lambda x: x['time'])\n",
    "\n",
    "# Convert timestamps to datetime\n",
    "df_exploded['time'] = pd.to_datetime(df_exploded['time'], unit='ms')\n",
    "\n",
    "# Display the final DataFrame\n",
    "print(df_exploded[['Port_IDs', 'time']])"
   ]
  },
  {
   "cell_type": "code",
   "execution_count": 35,
   "id": "efd72fb0-55e7-47f6-91b9-ab4f1d9b2514",
   "metadata": {},
   "outputs": [],
   "source": [
    "# Step 2: Feature Engineering\n",
    "# Position Identification\n",
    "df_exploded['trade_type'] = df_exploded['Trade_History'].apply(lambda x: f\"{x['side']}_{x['positionSide']}\")\n",
    "df_exploded['quantity'] = df_exploded['Trade_History'].apply(lambda x: x.get('quantity')) \n",
    "df_exploded['price'] = df_exploded['Trade_History'].apply(lambda x: x.get('price'))  \n",
    "df_exploded['realizedProfit'] = df_exploded['Trade_History'].apply(lambda x: x.get('realizedProfit'))\n",
    "df_exploded['investment'] = df_exploded['Trade_History'].apply(lambda x: x.get('investment')) \n",
    "\n",
    "# Calculate investment amount\n",
    "df_exploded['investment'] = df_exploded['quantity'] * df_exploded['price']\n",
    "\n",
    "# Calculate daily returns for Sharpe Ratio\n",
    "df_exploded['daily_return'] = df_exploded['realizedProfit'] / df_exploded['investment']"
   ]
  },
  {
   "cell_type": "code",
   "execution_count": 39,
   "id": "d4c6f5ec-2f61-4fb8-873d-a1a5b7ad485e",
   "metadata": {},
   "outputs": [],
   "source": [
    "# Step 3: Calculate Financial Metrics\n",
    "# Aggregate Metrics by Account\n",
    "metrics = df_exploded.groupby('Port_IDs').agg(\n",
    "    total_positions=('trade_type', 'count'),\n",
    "    win_positions=('realizedProfit', lambda x: (x > 0).sum()),\n",
    "    total_pnl=('realizedProfit', 'sum'),\n",
    "    total_investment=('investment', 'sum'),\n",
    ").reset_index()\n"
   ]
  },
  {
   "cell_type": "code",
   "execution_count": 41,
   "id": "22db823c-7fd4-4ed9-bf4a-25307a548562",
   "metadata": {},
   "outputs": [],
   "source": [
    "# Calculate ROI and Win Rate\n",
    "metrics['roi'] = (metrics['total_pnl'] / metrics['total_investment']) * 100\n",
    "metrics['win_rate'] = (metrics['win_positions'] / metrics['total_positions']) * 100"
   ]
  },
  {
   "cell_type": "code",
   "execution_count": 47,
   "id": "21c7510c-f394-4479-8152-d46242a419f6",
   "metadata": {},
   "outputs": [],
   "source": [
    "# Calculate Sharpe Ratio\n",
    "daily_returns = df_exploded.groupby(['Port_IDs', df_exploded['time'].dt.date])['daily_return'].sum()\n",
    "sharpe_ratios = daily_returns.groupby('Port_IDs').apply(lambda x: (x.mean() / x.std()) if x.std() != 0 else 0)\n",
    "metrics['sharpe_ratio'] = sharpe_ratios.values"
   ]
  },
  {
   "cell_type": "code",
   "execution_count": 49,
   "id": "a2be996e-6442-442e-98da-77939cf10741",
   "metadata": {},
   "outputs": [],
   "source": [
    "# Calculate Maximum Drawdown (MDD)\n",
    "def max_drawdown(returns):\n",
    "    cumulative = (1 + returns).cumprod()\n",
    "    peak = cumulative.cummax()\n",
    "    drawdown = (cumulative - peak) / peak\n",
    "    return drawdown.min()\n",
    "\n",
    "mdd = daily_returns.groupby('Port_IDs').apply(max_drawdown)\n",
    "metrics['mdd'] = mdd.values"
   ]
  },
  {
   "cell_type": "code",
   "execution_count": 51,
   "id": "ce7bc72c-1817-4ab0-8484-7634fe94fa7a",
   "metadata": {},
   "outputs": [],
   "source": [
    "# Step 4: Ranking Algorithm\n",
    "# Scoring System\n",
    "weights = {\n",
    "    'roi': 0.4,\n",
    "    'sharpe_ratio': 0.3,\n",
    "    'win_rate': 0.3\n",
    "}\n",
    "metrics['score'] = (metrics['roi'] * weights['roi'] +\n",
    "                    metrics['sharpe_ratio'] * weights['sharpe_ratio'] +\n",
    "                    metrics['win_rate'] * weights['win_rate'])\n",
    "\n",
    "# Rank Accounts\n",
    "metrics['rank'] = metrics['score'].rank(ascending=False)\n",
    "\n",
    "# Get Top 20 Accounts\n",
    "top_20_accounts = metrics.sort_values(by='score', ascending=False).head(20)"
   ]
  },
  {
   "cell_type": "code",
   "execution_count": 53,
   "id": "67958f07-eb4c-441e-9943-424d06bf3807",
   "metadata": {},
   "outputs": [
    {
     "name": "stdout",
     "output_type": "stream",
     "text": [
      "\n",
      "Top 20 Accounts:\n",
      "                Port_IDs  total_positions  win_positions     total_pnl  \\\n",
      "58   3977234346014419201               83             33   2427.292831   \n",
      "1    3733192481840423936              689            553   2923.977200   \n",
      "62   3986814617275053313             3554           2780  16337.461881   \n",
      "16   3891020560590657281              437            283   2856.300564   \n",
      "14   3886752488982104320             1249            931   7195.178325   \n",
      "47   3956048468100538880               28             20   1373.564890   \n",
      "88   4013955990069013504              358            236   1690.027050   \n",
      "17   3907081197088384000             4137           2540  18015.997370   \n",
      "8    3826087012661391104              108             63    532.656974   \n",
      "61   3983074113875692800               43             14   2424.829520   \n",
      "144  4039279455324236544              327            181   1038.807419   \n",
      "92   4017110277719148289              252            143   2899.933021   \n",
      "77   4000222729738650369              958            537   1803.620133   \n",
      "127  4032403303704824321              223            123   2060.570520   \n",
      "70   3994879592543698688              653            361   3658.765062   \n",
      "36   3943533600390906881             1759            964   2361.424572   \n",
      "107  4028701921959171840              687            373  17601.401398   \n",
      "85   4008804082027254529              975            527   3332.733459   \n",
      "118  4030635536196756737             1294            679   2581.614175   \n",
      "52   3966142151544441601             1932           1028   4883.800776   \n",
      "\n",
      "           roi   win_rate  sharpe_ratio           mdd      score  rank  \n",
      "58   36.530497  39.759036      0.432637  0.000000e+00  26.669701   1.0  \n",
      "1     0.000005  80.261248      0.367437 -6.913170e-06  24.188608   2.0  \n",
      "62    0.092214  78.221722      0.699102  0.000000e+00  23.713133   3.0  \n",
      "16    6.798006  64.759725      1.247727  0.000000e+00  22.521438   4.0  \n",
      "14    0.000036  74.539632      0.407826 -8.103863e+05  22.484252   5.0  \n",
      "47    0.000024  71.428571      0.447426  0.000000e+00  21.562809   6.0  \n",
      "88    0.074722  65.921788      0.224150 -6.712713e+00  19.873670   7.0  \n",
      "17    0.038348  61.397148      0.332781 -1.132863e+11  18.534318   8.0  \n",
      "8     0.002802  58.333333      0.397928 -9.363403e-07  17.620499   9.0  \n",
      "61   18.787880  32.558140      0.858831  0.000000e+00  17.540243  10.0  \n",
      "144   1.838226  55.351682      0.500000  0.000000e+00  17.490795  11.0  \n",
      "92    0.000045  56.746032      0.277479  0.000000e+00  17.107071  12.0  \n",
      "77    0.000076  56.054280      0.465830 -3.253901e+09  16.956064  13.0  \n",
      "127   0.000076  55.156951      0.411853 -3.356138e-05  16.670672  14.0  \n",
      "70    0.000317  55.283308     -0.125866 -3.780907e+01  16.547359  15.0  \n",
      "36    0.000199  54.803866      0.264376 -1.987693e-01  16.520552  16.0  \n",
      "107   0.000006  54.294032      0.564745 -5.280882e-07  16.457636  17.0  \n",
      "85    0.000003  54.051282      0.630422 -9.953602e-05  16.404512  18.0  \n",
      "118   0.000014  52.472952      0.898782  0.000000e+00  16.011526  19.0  \n",
      "52    0.000021  53.209110     -0.079175 -5.359987e+02  15.938989  20.0  \n"
     ]
    }
   ],
   "source": [
    "# Display Results\n",
    "print(\"\\nTop 20 Accounts:\")\n",
    "print(top_20_accounts[['Port_IDs', 'total_positions', 'win_positions', 'total_pnl', 'roi', 'win_rate', 'sharpe_ratio', 'mdd', 'score', 'rank']])\n"
   ]
  },
  {
   "cell_type": "code",
   "execution_count": 57,
   "id": "b24765f7-f17d-4a5d-a49c-52da641255cd",
   "metadata": {},
   "outputs": [],
   "source": [
    "# Save the calculated metrics to a CSV file\n",
    "metrics.to_csv('calculated_metrics.csv', index=False)\n",
    "\n",
    "# Save the top 20 accounts to a CSV file\n",
    "top_20_accounts.to_csv('top_20_accounts.csv', index=False)"
   ]
  }
 ],
 "metadata": {
  "kernelspec": {
   "display_name": "Python [conda env:base] *",
   "language": "python",
   "name": "conda-base-py"
  },
  "language_info": {
   "codemirror_mode": {
    "name": "ipython",
    "version": 3
   },
   "file_extension": ".py",
   "mimetype": "text/x-python",
   "name": "python",
   "nbconvert_exporter": "python",
   "pygments_lexer": "ipython3",
   "version": "3.12.7"
  }
 },
 "nbformat": 4,
 "nbformat_minor": 5
}
